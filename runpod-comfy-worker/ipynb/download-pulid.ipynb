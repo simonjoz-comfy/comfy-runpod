{
 "cells": [
  {
   "cell_type": "code",
   "execution_count": null,
   "id": "33be14dc-0669-4ffe-9dab-1c217c328607",
   "metadata": {},
   "outputs": [],
   "source": [
    "%%bash\n",
    "\n",
    "source /download-model.sh\n",
    "\n",
    "PULID=\"$MODELS_PATH/pulid\"\n",
    "CLIP_VISION=\"$MODELS_PATH/clip_vision/\"\n",
    "\n",
    "mkdir -p \"$PULID\" \"$CLIP_VISION\"\n",
    "\n",
    "# ──────────────────────────────────────────────────────────────────────────────────────────────────────\n",
    "# PuLID\n",
    "# ──────────────────────────────────────────────────────────────────────────────────────────────────────\n",
    "# Flux PulID v0.9.1\n",
    "download_model \"https://huggingface.co/SimonJoz/comfy/resolve/main/pulid/pulid_flux_v0.9.1.safetensors\" \"$PULID/pulid_flux_v0.9.1.safetensors\"\n",
    "\n",
    "# ──────────────────────────────────────────────────────────────────────────────────────────────────────\n",
    "# Clip Vision\n",
    "# ──────────────────────────────────────────────────────────────────────────────────────────────────────\n",
    "# CLIP-VIT-L\n",
    "download_model \"https://huggingface.co/SimonJoz/comfy/resolve/main/clip-vision/clip-vit-large-patch14.safetensors\" \"$CLIP_VISION/clip-vit-large-patch14.safetensors\"\n"
   ]
  }
 ],
 "metadata": {
  "kernelspec": {
   "display_name": "Python 3 (ipykernel)",
   "language": "python",
   "name": "python3"
  },
  "language_info": {
   "codemirror_mode": {
    "name": "ipython",
    "version": 3
   },
   "file_extension": ".py",
   "mimetype": "text/x-python",
   "name": "python",
   "nbconvert_exporter": "python",
   "pygments_lexer": "ipython3",
   "version": "3.10.2"
  }
 },
 "nbformat": 4,
 "nbformat_minor": 5
}
