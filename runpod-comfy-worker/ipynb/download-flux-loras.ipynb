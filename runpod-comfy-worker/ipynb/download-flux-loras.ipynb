{
 "cells": [
  {
   "cell_type": "code",
   "execution_count": null,
   "id": "33be14dc-0669-4ffe-9dab-1c217c328607",
   "metadata": {},
   "outputs": [],
   "source": [
    "%%bash\n",
    "\n",
    "source /download-model.sh\n",
    "\n",
    "LORAS=\"$MODELS_PATH/loras/flux\"\n",
    "\n",
    "mkdir -p \"$LORAS\"\n",
    "\n",
    "# ──────────────────────────────────────────────────────────────────────────────────────────────────────\n",
    "# Flux LoRAs\n",
    "# ──────────────────────────────────────────────────────────────────────────────────────────────────────\n",
    "# Turbo 8 steps LoRA\n",
    "download_model \"https://huggingface.co/SimonJoz/comfy/resolve/main/lora/flux/flux-turbo-alpha-lora.safetensors\" \"$LORAS/flux-turbo-alpha-lora.safetensors\"\n",
    "\n",
    "# Flux Depth LoRA\n",
    "download_model \"https://huggingface.co/SimonJoz/comfy/resolve/main/lora/flux/flux1-depth-dev-lora.safetensors\" \"$LORAS/flux1-depth-dev-lora.safetensors\"\n",
    "\n",
    "# Xlabs AI Photo-Realism\n",
    "download_model \"https://huggingface.co/SimonJoz/comfy/resolve/main/lora/flux/flux_realism_lora_comfy_converted.safetensors\" \"$LORAS/flux_realism_lora.safetensors\"\n",
    "\n",
    "# Amateur Photo - No Trigger\n",
    "download_model \"https://huggingface.co/SimonJoz/comfy/resolve/main/lora/flux/flux-amateurphoto-v6-lora.safetensors\" \"$LORAS/flux-amateurphoto-v6-lora.safetensors\"\n",
    "\n",
    "# Perfect Full Round Breasts & Slim Waist - Trigger woman\n",
    "download_model \"https://huggingface.co/SimonJoz/comfy/resolve/main/lora/flux/flux-perfect-busts-lora.safetensors\" \"$LORAS/perfect-breasts-slim-waist-flux-lora.safetensors\"\n",
    "\n",
    "# Same Face Fix  - Trigger - woman\n",
    "download_model \"https://huggingface.co/SimonJoz/comfy/resolve/main/lora/flux/flux-same-face-fix-lora.safetensors\" \"$LORAS/flux-same-face-fix-lora.safetensors\"\n",
    "\n",
    "# Hourglass Body -  Trigger - extremely tiny waist, thick legs, extremely wide hips, extremely slim hourglass body, h0u4\n",
    "download_model \"https://huggingface.co/SimonJoz/comfy/resolve/main/lora/flux/hourglass-body-flux.safetensors\" \"$LORAS/hourglass-body-flux-lora.safetensors\"\n",
    "\n",
    "# Photorealistic Skin LoRA - Trigger - aidmarealisticskin\n",
    "download_model \"https://huggingface.co/SimonJoz/comfy/resolve/main/lora/flux/flux-realistic-skin-lora-v0.1.safetensors\" \"$LORAS/flux-realistic-skin-lora-v0.1.safetensors\"\n"
   ]
  }
 ],
 "metadata": {
  "kernelspec": {
   "display_name": "Python 3 (ipykernel)",
   "language": "python",
   "name": "python3"
  },
  "language_info": {
   "codemirror_mode": {
    "name": "ipython",
    "version": 3
   },
   "file_extension": ".py",
   "mimetype": "text/x-python",
   "name": "python",
   "nbconvert_exporter": "python",
   "pygments_lexer": "ipython3",
   "version": "3.10.2"
  }
 },
 "nbformat": 4,
 "nbformat_minor": 5
}
