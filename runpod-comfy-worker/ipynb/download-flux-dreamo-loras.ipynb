{
 "cells": [
  {
   "cell_type": "code",
   "execution_count": null,
   "id": "33be14dc-0669-4ffe-9dab-1c217c328607",
   "metadata": {},
   "outputs": [],
   "source": [
    "%%bash\n",
    "\n",
    "source /download-model.sh\n",
    "\n",
    "LORAS=\"$MODELS_PATH/loras/flux\"\n",
    "\n",
    "mkdir -p \"$LORAS\"\n",
    "\n",
    "# ──────────────────────────────────────────────────────────────────────────────────────────────────────\n",
    "# Flux DreamO LoRAs\n",
    "# ──────────────────────────────────────────────────────────────────────────────────────────────────────\n",
    "download_model \"https://huggingface.co/SimonJoz/comfy-dreamo/resolve/main/dreamo_comfyui.safetensors\" \"$LORAS/dreamo_comfyui.safetensors\"\n",
    "download_model \"https://huggingface.co/SimonJoz/comfy-dreamo/resolve/main/dreamo_cfg_distill_comfyui.safetensors\" \"$LORAS/dreamo_cfg_distill_comfyui.safetensors\"\n",
    "download_model \"https://huggingface.co/SimonJoz/comfy-dreamo/resolve/main/dreamo_quality_lora_pos_comfyui.safetensors\" \"$LORAS/dreamo_quality_lora_pos_comfyui.safetensors\"\n",
    "download_model \"https://huggingface.co/SimonJoz/comfy-dreamo/resolve/main/dreamo_quality_lora_neg_comfyui.safetensors\" \"$LORAS/dreamo_quality_lora_neg_comfyui.safetensors\"\n"
   ]
  }
 ],
 "metadata": {
  "kernelspec": {
   "display_name": "Python 3 (ipykernel)",
   "language": "python",
   "name": "python3"
  },
  "language_info": {
   "codemirror_mode": {
    "name": "ipython",
    "version": 3
   },
   "file_extension": ".py",
   "mimetype": "text/x-python",
   "name": "python",
   "nbconvert_exporter": "python",
   "pygments_lexer": "ipython3",
   "version": "3.10.2"
  }
 },
 "nbformat": 4,
 "nbformat_minor": 5
}
