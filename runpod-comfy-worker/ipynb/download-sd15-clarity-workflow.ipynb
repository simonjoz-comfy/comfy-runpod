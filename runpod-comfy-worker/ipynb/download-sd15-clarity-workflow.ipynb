{
 "cells": [
  {
   "cell_type": "code",
   "execution_count": null,
   "id": "33be14dc-0669-4ffe-9dab-1c217c328607",
   "metadata": {},
   "outputs": [],
   "source": [
    "%%bash\n",
    "\n",
    "source /download-model.sh\n",
    "\n",
    "LORAS=\"$MODELS_PATH/loras/sd15\"\n",
    "UPSCALERS=\"$MODELS_PATH/upscale_models\"\n",
    "CONTROL_NETS=\"$MODELS_PATH/controlnet/sd15\"\n",
    "CHECKPOINTS=\"$MODELS_PATH/checkpoints/sd15\"\n",
    "\n",
    "mkdir -p \"$LORAS\" \"$UPSCALERS\" \"$CONTROL_NETS\" \"$CHECKPOINTS\"\n",
    "\n",
    "# ──────────────────────────────────────────────────────────────────────────────────────────────────────\n",
    "# Checkpoints\n",
    "# ──────────────────────────────────────────────────────────────────────────────────────────────────────\n",
    "download_model \"https://huggingface.co/SimonJoz/comfy/resolve/main/checkpoint/sd15/juggernaut_reborn.safetensors\" \"$CHECKPOINTS/juggernaut_reborn.safetensors\"\n",
    "\n",
    "\n",
    "# LoRAs\n",
    "# ──────────────────────────────────────────────────────────────────────────────────────────────────────\n",
    "\n",
    "# SDXLrender_v2.0.safetensors | 187 MB  | No trigger | Recommended weight: 0.2~0.9\n",
    "# https://civitai.com/models/171159?modelVersionId=236130\n",
    "download_model \"https://huggingface.co/SimonJoz/comfy/resolve/main/lora/sd15/SDXLrender_v2.0.safetensors\" \"$LORAS/SDXLrender_v2.0.safetensors\"\n",
    "\n",
    "# more_details.safetensors | 9.55 MB  | No trigger | Recommended weight between 0.5 and 1 weight\n",
    "# https://civitai.com/models/82098/add-more-details-detail-enhancer-tweaker-lora\n",
    "download_model \"https://huggingface.co/SimonJoz/comfy/resolve/main/lora/sd15/more-details-sd15-lora.safetensors\" \"$LORAS/more-details-sd15-lora.safetensors\"\n",
    "\n",
    "\n",
    "# ControlNet: https://openlaboratory.ai/models/control-sd15-tile | https://huggingface.co/lllyasviel/control_v11f1e_sd15_tile\n",
    "# ──────────────────────────────────────────────────────────────────────────────────────────────────────\n",
    "# ControlNet SD 1.5 Tile is a specialized image generation model developed by lllyasviel that operates within the Stable Diffusion 1.5 ecosystem by\n",
    "# segmenting images into discrete tiles for localized detail enhancement and reconstruction. The model excels at super-resolution, detail restoration, an\n",
    "# region-specific reinterpretation while maintaining global image structure and semantic appropriateness within each tile, making it particularly\n",
    "# effective for upscaling degraded or low-resolution images.\n",
    "\n",
    "download_model \"https://huggingface.co/SimonJoz/comfy/resolve/main/controlnet/sd15/control_v11f1e_sd15_tile.safetensors\" \"$CONTROL_NETS/control_v11f1e_sd15_tile.safetensors\"\n",
    "\n",
    "\n",
    "# Upscaler: https://openmodeldb.info/models/4x-NomosUniDAT-otf\n",
    "# ──────────────────────────────────────────────────────────────────────────────────────────────────────\n",
    "download_model \"https://huggingface.co/SimonJoz/comfy/resolve/main/upscalers/4xNomosUniDAT_otf.pth\" \"$UPSCALERS/4xNomosUniDAT_otf.pth\"\n"
   ]
  }
 ],
 "metadata": {
  "kernelspec": {
   "display_name": "Python 3 (ipykernel)",
   "language": "python",
   "name": "python3"
  },
  "language_info": {
   "codemirror_mode": {
    "name": "ipython",
    "version": 3
   },
   "file_extension": ".py",
   "mimetype": "text/x-python",
   "name": "python",
   "nbconvert_exporter": "python",
   "pygments_lexer": "ipython3",
   "version": "3.10.2"
  }
 },
 "nbformat": 4,
 "nbformat_minor": 5
}
