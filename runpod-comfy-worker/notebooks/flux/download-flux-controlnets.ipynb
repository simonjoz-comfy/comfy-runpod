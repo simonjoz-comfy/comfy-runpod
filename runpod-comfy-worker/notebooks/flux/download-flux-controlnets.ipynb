{
 "cells": [
  {
   "cell_type": "code",
   "execution_count": null,
   "id": "33be14dc-0669-4ffe-9dab-1c217c328607",
   "metadata": {},
   "outputs": [],
   "source": [
    "%%bash\n",
    "source /download-model.sh\n",
    "\n",
    "CONTROL_NET=\"$MODELS_PATH/controlnet/\"\n",
    "\n",
    "mkdir -p \"$CONTROL_NET\"\n",
    "\n",
    "BASE_URL=\"https://huggingface.co/SimonJoz/comfy/resolve/main/control-net/flux\"\n",
    "\n",
    "# ──────────────────────────────────────────────────────────────────────────────────────────────────────\n",
    "# ControlNets\n",
    "# ──────────────────────────────────────────────────────────────────────────────────────────────────────\n",
    "\n",
    "# Flux HED v3\n",
    "download_model \"$BASE_URL/flux-hed-controlnet-v3.safetensors\" \"$CONTROL_NET/flux-hed-controlnet-v3.safetensors\"\n",
    "\n",
    "# Flux Depth v3\n",
    "download_model \"$BASE_URL/flux-depth-controlnet-v3.safetensors\" \"$CONTROL_NET/flux-depth-controlnet-v3.safetensors\"\n",
    "\n",
    "# Flux Canny v3\n",
    "download_model \"$BASE_URL/flux-canny-controlnet-v3.safetensors\" \"$CONTROL_NET/flux-canny-controlnet-v3.safetensors\"\n",
    "\n",
    "# InstantX Union\n",
    "download_model \"$BASE_URL/flux-union-instantx-controlnet.safetensors\" \"$CONTROL_NET/flux-union-instantx-controlnet.safetensors\"\n",
    "\n",
    "# ShakkerLabs Union Pro 2.0\n",
    "download_model \"$BASE_URL/flux-dev-shakker-labs-controlnet-union-pro-2.0\" \"$CONTROL_NET/flux-dev-shakker-labs-controlnet-union-pro-2.0\"\n"
   ]
  }
 ],
 "metadata": {
  "kernelspec": {
   "display_name": "Python 3 (ipykernel)",
   "language": "python",
   "name": "python3"
  },
  "language_info": {
   "codemirror_mode": {
    "name": "ipython",
    "version": 3
   },
   "file_extension": ".py",
   "mimetype": "text/x-python",
   "name": "python",
   "nbconvert_exporter": "python",
   "pygments_lexer": "ipython3",
   "version": "3.10.2"
  }
 },
 "nbformat": 4,
 "nbformat_minor": 5
}
