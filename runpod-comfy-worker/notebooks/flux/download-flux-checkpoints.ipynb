{
 "cells": [
  {
   "cell_type": "code",
   "execution_count": null,
   "id": "33be14dc-0669-4ffe-9dab-1c217c328607",
   "metadata": {},
   "outputs": [],
   "source": [
    "%%bash\n",
    "\n",
    "source /download-model.sh\n",
    "\n",
    "VEA=\"$MODELS_PATH/vae\"\n",
    "CLIP=\"$MODELS_PATH/clip\"\n",
    "UNET=\"$MODELS_PATH/unet\"\n",
    "DIFFUSION_MODELS=\"$MODELS_PATH/diffusion_models\"\n",
    "\n",
    "mkdir -p \"$VEA\" \"$CLIP\" \"$UNET\" \"$DIFFUSION_MODELS\"\n",
    "\n",
    "BASE_URL=\"https://huggingface.co/SimonJoz/comfy/resolve/main/\"\n",
    "CHECKPOINTS_URL=\"$BASE_URL/checkpoint/flux\"\n",
    "\n",
    "# ──────────────────────────────────────────────────────────────────────────────────────────────────────\n",
    "# VAE and CLIPs (Text Encoders)\n",
    "# ──────────────────────────────────────────────────────────────────────────────────────────────────────\n",
    "\n",
    "download_model \"$BASE_URL/vae/flux/ae.safetensors\" \"$VEA/ae.safetensors\"\n",
    "download_model \"$BASE_URL/clip/clip_l.safetensors\" \"$CLIP/clip_l.safetensors\"\n",
    "download_model \"$BASE_URL/clip/t5xxl_fp8_e4m3fn_scaled.safetensors\" \"$CLIP/t5xxl_fp8_e4m3fn_scaled.safetensors\"\n",
    "\n",
    "# ──────────────────────────────────────────────────────────────────────────────────────────────────────\n",
    "# Checkpoints\n",
    "# ──────────────────────────────────────────────────────────────────────────────────────────────────────\n",
    "\n",
    "# Flux.1 Dev\n",
    "download_model \"$CHECKPOINTS_URL/flux1-dev.safetensors\" \"$UNET/flux1-dev.safetensors\"\n",
    "\n",
    "# Flux.1 Dev Kontext\n",
    "download_model \"$CHECKPOINTS_URL/flux1-dev-kontext_fp8_scaled.safetensors\" \"$DIFFUSION_MODELS/flux1-dev-kontext_fp8_scaled.safetensors\"\n",
    "\n",
    "# Flux.1 Dev - Perfect Base\n",
    "download_model \"$CHECKPOINTS_URL/flux1-dev-perfect-base.safetensors\" \"$UNET/flux1-dev-perfect-base.safetensors\"\n",
    "\n",
    "# Flux.1 Dev - Real Dream\n",
    "download_model \"$CHECKPOINTS_URL/flux-real-dream-1v1.safetensors\" \"$UNET/flux1-dev-real-dream.safetensors\"\n",
    "\n",
    "# Flux.1 Dev - STOIQO NewReality\n",
    "download_model \"$CHECKPOINTS_URL/flux-stoiqo-new-reality-f1d-alpha.safetensors\" \"$UNET/flux1-stoiqo-new-reality-f1d-alpha.safetensors\"\n",
    "\n",
    "# Flux.1 Dev - STOIQO Afrodite FLUXXL\n",
    "download_model \"$CHECKPOINTS_URL/flux-stoiqo-afrodite-fluxxl-f1d-alpha.safetensors\" \"$UNET/flux-stoiqo-afrodite-fluxxl-f1d-alpha.safetensors\"\n"
   ]
  }
 ],
 "metadata": {
  "kernelspec": {
   "display_name": "Python 3 (ipykernel)",
   "language": "python",
   "name": "python3"
  },
  "language_info": {
   "codemirror_mode": {
    "name": "ipython",
    "version": 3
   },
   "file_extension": ".py",
   "mimetype": "text/x-python",
   "name": "python",
   "nbconvert_exporter": "python",
   "pygments_lexer": "ipython3",
   "version": "3.10.2"
  }
 },
 "nbformat": 4,
 "nbformat_minor": 5
}
