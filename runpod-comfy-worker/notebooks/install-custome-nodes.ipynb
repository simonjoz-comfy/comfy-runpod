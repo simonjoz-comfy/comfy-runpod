{
 "cells": [
  {
   "cell_type": "code",
   "execution_count": null,
   "metadata": {
    "collapsed": true
   },
   "outputs": [],
   "source": [
    "%%bash\n",
    "\n",
    "custom_nodes=(\n",
    "    \"was-node-suite-comfyui\"                # WAS Node Suite\n",
    "    \"comfyui_ultimatesdupscale\"             # ComfyUI_UltimateSDUpscale\n",
    "    \"comfyui-inspire-pack\"                  # ComfyUI Inspire Pack\n",
    "    \"comfyui_controlnet_aux\"                # comfyui_controlnet_aux\n",
    "    \"comfyui-animatediff-evolved\"           # ComfyUI-AnimateDiff-Evolved\n",
    "    \"cg-use-everywhere\"                     # cg-use-everywhere\n",
    "    \"comfyui-videohelpersuite\"              # ComfyUI-VideoHelperSuite\n",
    "    \"comfyui-frame-interpolation\"           # ComfyUI-Frame-Interpolation\n",
    "    \"comfyui_instantid\"                     # ComfyUI_InstantID\n",
    "    \"comfyui-hunyuanvideowrapper\"           # ComfyUI-HunyuanVideoWrapper\n",
    "    \"comfyui-custom-scripts\"                # ComfyUI-Custom-Scripts\n",
    "    \"comfyui-florence2\"                     # ComfyUI-Florence2\n",
    "    \"comfyui-advanced-controlnet\"           # ComfyUI-Advanced-ControlNet\n",
    "    \"comfyui-mxtoolkit\"                     # ComfyUI-mxToolkit\n",
    "    \"comfyui-image-saver\"                   # ComfyUI Image Saver\n",
    "    \"ComfyUI-GGUF\"                          # ComfyUI-GGUF\n",
    "    \"comfyui-kjnodes\"                       # ComfyUI-KJNodes\n",
    "    \"rgthree-comfy\"                         # rgthree-comfy\n",
    "    \"comfyui-impact-pack\"                   # ComfyUI Impact Pack\n",
    "    \"gguf\"                                  # gguf\n",
    "    \"comfyui_essentials\"                    # ComfyUI_essentials\n",
    "    \"x-flux-comfyui\"                        # x-flux-comfyui\n",
    "    \"ComfyUI-GGUF_Forked\"                   # ComfyUI-GGUF_Forked\n",
    "    \"comfyui-florence2xy\"                   # comfyui-florence2xy\n",
    "    \"comfyui-reactor-node\"                  # comfyui-reactor-node\n",
    "    \"comfyui-logicutils\"                    # ComfyUI-LogicUtils\n",
    "    \"comfyui-get-meta\"                      # comfyui-get-meta\n",
    "    \"comfyui-reactor\"                       # ComfyUI-ReActor\n",
    "    \"teacachehunyuanvideo\"                  # ComfyUI-TeaCacheHunyuanVideo\n",
    "    \"ComfyUI-Apt_Preset\"                    # ComfyUI-Apt_Preset\n",
    "    \"ComfyUI-InstantIDUtils\"                # ComfyUI-InstantIDUtils\n",
    "    \"agilly1989_motorway\"                   # ComfyUI_agilly1989_motorway\n",
    "    \"ComfyUI-InstantID\"                     # ComfyUI-InstantID\n",
    "    \"ComfyUI-DeepFuze\"                      # DeepFuze\n",
    "    \"comfyui_essentials_mb\"                 # ComfyUI_essentials_mb\n",
    "    \"comfyui-web-viewer\"                    # ComfyUI Web Viewer\n",
    "    \"comfyui-clh-tool\"                      # ComfyUi-clh-Tool\n",
    "    \"ComfyUI-FramePackWrapper_Plus\"         # ComfyUI-FramePackWrapper_Plus\n",
    "    \"ComfyUI_Comfyroll_CustomNodes\"         # Comfyroll Studio\n",
    "    \"comfystereo\"                           # ComfyStereo\n",
    "    \"comfy-image-saver\"                     # Save Image with Generation Metadata\n",
    "    \"comfyui-tensorops\"                     # comfyui-tensorop\n",
    "    \"ComfyUI-JNodes\"                        # ComfyUI-JNodes\n",
    "    \"ComfyLiterals\"                         # ComfyLiterals\n",
    "    \"teacache\"                              # ComfyUI-TeaCache\n",
    "    \"comfyui-detail-daemon\"                 # ComfyUI-Detail-Daemon\n",
    "    \"comfyui-multigpu\"                      # ComfyUI-MultiGPU\n",
    "    \"kaytool\"                               # KayTool\n",
    "    \"comfyui-reactor\"\n",
    ")\n",
    "\n",
    "for cn in \"${custom_nodes[@]}\";\n",
    "do\n",
    "comfy node install \"$cn\"\n",
    "done\n"
   ]
  }
 ],
 "metadata": {
  "kernelspec": {
   "display_name": "Python 3",
   "language": "python",
   "name": "python3"
  },
  "language_info": {
   "codemirror_mode": {
    "name": "ipython",
    "version": 2
   },
   "file_extension": ".py",
   "mimetype": "text/x-python",
   "name": "python",
   "nbconvert_exporter": "python",
   "pygments_lexer": "ipython2",
   "version": "2.7.6"
  }
 },
 "nbformat": 4,
 "nbformat_minor": 0
}
