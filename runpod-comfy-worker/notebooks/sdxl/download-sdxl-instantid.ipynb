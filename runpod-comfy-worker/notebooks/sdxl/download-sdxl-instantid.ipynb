{
 "cells": [
  {
   "cell_type": "code",
   "execution_count": null,
   "id": "33be14dc-0669-4ffe-9dab-1c217c328607",
   "metadata": {},
   "outputs": [],
   "source": [
    "%%bash\n",
    "\n",
    "source /download-model.sh\n",
    "\n",
    "INSIGHT_FACE=\"$MODELS_PATH/insightface\"\n",
    "INSTANT_ID=\"$MODELS_PATH/instantid/sdxl\"\n",
    "BASE_URL=\"https://huggingface.co/SimonJoz/comfy/resolve/main\"\n",
    "\n",
    "mkdir -p \"$INSIGHT_FACE\" \"$INSTANT_ID\"\n",
    "\n",
    "# ──────────────────────────────────────────────────────────────────────────────────────────────────────\n",
    "# Instant ID\n",
    "# ──────────────────────────────────────────────────────────────────────────────────────────────────────\n",
    "\n",
    "# InstantID IP Adapter face id plus v2\n",
    "download_model \"$BASE_URL/instantid/sdxl/ip-adapter-faceid-plusv2-sdxl.bin\" \"$INSTANT_ID/ip-adapter-faceid-plusv2-sdxl.bin\"\n",
    "\n",
    "# InsightFace\n",
    "download_model \"$BASE_URL/insightface/antelopev2.zip\" \"$INSIGHT_FACE/antelopev2.zip\"\n",
    "\n",
    "# Get the last background PID\n",
    "download_pid=$!\n",
    "\n",
    "# Wait for it to finish\n",
    "wait \"$download_pid\"\n",
    "\n",
    "# unzip\n",
    "unzip \"$INSIGHT_FACE/antelopev2.zip\" -d \"$INSIGHT_FACE/models/\"\n"
   ]
  }
 ],
 "metadata": {
  "kernelspec": {
   "display_name": "Python 3 (ipykernel)",
   "language": "python",
   "name": "python3"
  },
  "language_info": {
   "codemirror_mode": {
    "name": "ipython",
    "version": 3
   },
   "file_extension": ".py",
   "mimetype": "text/x-python",
   "name": "python",
   "nbconvert_exporter": "python",
   "pygments_lexer": "ipython3",
   "version": "3.10.2"
  }
 },
 "nbformat": 4,
 "nbformat_minor": 5
}
