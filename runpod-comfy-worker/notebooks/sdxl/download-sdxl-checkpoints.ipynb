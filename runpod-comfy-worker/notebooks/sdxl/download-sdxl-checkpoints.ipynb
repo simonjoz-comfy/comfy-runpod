{
 "cells": [
  {
   "cell_type": "code",
   "execution_count": null,
   "id": "33be14dc-0669-4ffe-9dab-1c217c328607",
   "metadata": {},
   "outputs": [],
   "source": [
    "%%bash\n",
    "\n",
    "source /download-model.sh\n",
    "\n",
    "CHECKPOINTS=\"$MODELS_PATH/checkpoints/sdxl\"\n",
    "BASE_URL=\"https://huggingface.co/SimonJoz/comfy/resolve/main/checkpoint/sdxl\"\n",
    "\n",
    "mkdir -p \"$CHECKPOINTS\"\n",
    "\n",
    "# ──────────────────────────────────────────────────────────────────────────────────────────────────────\n",
    "# SFW Checkpoints\n",
    "# ──────────────────────────────────────────────────────────────────────────────────────────────────────\n",
    "\n",
    "# Juggernaut XL By RunDiffusion\n",
    "download_model \"$BASE_URL/juggernaut-sdxl-by-run-diffusion.safetensors\" \"$CHECKPOINTS/juggernaut-sdxl-by-run-diffusion.safetensors\"\n",
    "\n",
    "# epiCRealism XL vXVI - LastFAME (Realism)\n",
    "download_model \"$BASE_URL/epicrealism-sdxl-vxvi-lastfame-realism.safetensors\" \"$CHECKPOINTS/epicrealism-sdxl-vxvi-lastfame-realism.safetensors\"\n",
    "\n",
    "# ──────────────────────────────────────────────────────────────────────────────────────────────────────\n",
    "# NSFW Checkpoints\n",
    "# ──────────────────────────────────────────────────────────────────────────────────────────────────────\n",
    "\n",
    "# Big Lust v1.6\n",
    "download_model \"$BASE_URL/big-lust-v1.6.safetensors\" \"$CHECKPOINTS/big-lust-v1.6.safetensors\"\n",
    "\n",
    "# Big Love v2.5\n",
    "download_model \"$BASE_URL/big-love-sdxl-v2.5.safetensors\" \"$CHECKPOINTS/big-love-sdxl-v2.5.safetensors\"\n",
    "\n",
    "# Realism By Stable Yogi v5-xl FP16\n",
    "#download_model \"$BASE_URL/realism-by-stable-yogi-v5-xl-fp16.safetensors\" \"$CHECKPOINTS/realism-by-stable-yogi-v5-xl-fp16.safetensors\"\n",
    "\n",
    "# Realism By Stable Yogi v5-xl FP32\n",
    "download_model \"$BASE_URL/realism-by-stable-yogi-v5-xl-fp32.safetensors\" \"$CHECKPOINTS/realism-by-stable-yogi-v5-xl-fp32.safetensors\"\n",
    "\n"
   ]
  }
 ],
 "metadata": {
  "kernelspec": {
   "display_name": "Python 3 (ipykernel)",
   "language": "python",
   "name": "python3"
  },
  "language_info": {
   "codemirror_mode": {
    "name": "ipython",
    "version": 3
   },
   "file_extension": ".py",
   "mimetype": "text/x-python",
   "name": "python",
   "nbconvert_exporter": "python",
   "pygments_lexer": "ipython3",
   "version": "3.10.2"
  }
 },
 "nbformat": 4,
 "nbformat_minor": 5
}
