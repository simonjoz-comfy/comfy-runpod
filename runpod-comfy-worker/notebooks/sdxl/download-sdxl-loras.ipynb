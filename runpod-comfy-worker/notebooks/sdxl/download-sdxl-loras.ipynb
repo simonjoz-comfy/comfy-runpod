{
 "cells": [
  {
   "cell_type": "code",
   "execution_count": null,
   "id": "33be14dc-0669-4ffe-9dab-1c217c328607",
   "metadata": {},
   "outputs": [],
   "source": [
    "%%bash\n",
    "\n",
    "source /download-model.sh\n",
    "\n",
    "LORAS=\"$MODELS_PATH/loras/sdxl\"\n",
    "BASE_URL=\"https://huggingface.co/SimonJoz/comfy/resolve/main/lora/sdxl\"\n",
    "\n",
    "mkdir -p \"$LORAS\"\n",
    "\n",
    "# ──────────────────────────────────────────────────────────────────────────────────────────────────────\n",
    "# LoARs\n",
    "# ──────────────────────────────────────────────────────────────────────────────────────────────────────\n",
    "\n",
    "# DMD2 4-Step Speed\n",
    "download_model \"$BASE_URL/dmd2-sdxl-4step-lora-fp16.safetensors\" \"$LORAS/dmd2-sdxl-4step-lora-fp16.safetensors\"\n",
    "\n",
    "# Detail Tweaker XL\n",
    "download_model \"$BASE_URL/add-detail-sdxl-lora.safetensors\" \"$LORAS/add-detail-sdxl-lora.safetensors\"\n",
    "\n",
    "# Better faces\n",
    "download_model \"$BASE_URL/better-faces-sdxl-lora-v1.safetensors\" \"$LORAS/better-faces-sdxl-lora-v1.safetensors\"\n",
    "\n",
    "# Hourglass Body Shape\n",
    "download_model \"$BASE_URL/hourglass-v2-sdxl-lora.safetensors\" \"$LORAS/hourglass-v2-sdxl-lora.safetensors\"\n",
    "\n",
    "# Perfect Round Ass\n",
    "download_model \"$BASE_URL/round-ass-v1.1-sdxl-lora.safetensors\" \"$LORAS/round-ass-v1.1-sdxl-lora.safetensors\"\n",
    "\n",
    "# Big Round Butt\n",
    "#download_model \"$BASE_URL/big-round-butt-sdxl-lora.safetensors\" \"$LORAS/big-round-butt-sdxl-lora.safetensors\"\n",
    "\n",
    "# Dumptruck Booty - Experimental\n",
    "#download_model \"$BASE_URL/dumpy-ass-sdxl-lora.safetensors\" \"$LORAS/dumpy-ass-sdxl-lora.safetensors\"\n",
    "\n",
    "\n",
    "# ──────────────────────────────────────────────────────────────────────────────────────────────────────\n",
    "# NSFW LoRAs\n",
    "# ──────────────────────────────────────────────────────────────────────────────────────────────────────\n",
    "\n",
    "# Subtle UltraRes\n",
    "download_model \"$BASE_URL/subtle-ultrares-v1-sdxl-big-love-2.5.safetensors\" \"$LORAS/subtle-ultrares-v1-sdxl-big-love-2.5.safetensors\"\n",
    "\n",
    "# No Bra SDXL\n",
    "#download_model \"$BASE_URL/no-bra-v1-sdxl-lora.safetensors\" \"$LORAS/no-bra-v1-sdxl-lora.safetensors\"\n",
    "\n",
    "# Detailed nipples XL\n",
    "#download_model \"$BASE_URL/detailed-nipples-sdxl-lora.safetensors\" \"$LORAS/detailed-nipples-sdxl-lora.safetensors\"\n",
    "\n",
    "# NSFW POV All In One SDXL\n",
    "#download_model \"$BASE_URL/nsfw-pov-all-in-one-lora-sdxl-000009.safetensors\" \"$LORAS/nsfw-pov-all-in-one-lora-sdxl-000009.safetensors\"\n"
   ]
  }
 ],
 "metadata": {
  "kernelspec": {
   "display_name": "Python 3 (ipykernel)",
   "language": "python",
   "name": "python3"
  },
  "language_info": {
   "codemirror_mode": {
    "name": "ipython",
    "version": 3
   },
   "file_extension": ".py",
   "mimetype": "text/x-python",
   "name": "python",
   "nbconvert_exporter": "python",
   "pygments_lexer": "ipython3",
   "version": "3.10.2"
  }
 },
 "nbformat": 4,
 "nbformat_minor": 5
}
