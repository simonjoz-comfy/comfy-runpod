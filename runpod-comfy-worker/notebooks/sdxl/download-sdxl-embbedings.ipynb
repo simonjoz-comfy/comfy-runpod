{
 "cells": [
  {
   "cell_type": "code",
   "execution_count": null,
   "id": "33be14dc-0669-4ffe-9dab-1c217c328607",
   "metadata": {},
   "outputs": [],
   "source": [
    "%%bash\n",
    "\n",
    "source /download-model.sh\n",
    "\n",
    "EMBEDDINGS=\"$MODELS_PATH/embeddings/sdxl\"\n",
    "BASE_URL=\"https://huggingface.co/SimonJoz/comfy/resolve/main/embeddings/sdxl\"\n",
    "\n",
    "mkdir -p \"$EMBEDDINGS\"\n",
    "\n",
    "# ──────────────────────────────────────────────────────────────────────────────────────────────────────\n",
    "# Embeddings\n",
    "# ──────────────────────────────────────────────────────────────────────────────────────────────────────\n",
    "\n",
    "# NEGATIVE_HANDS\n",
    "download_model \"$BASE_URL/NEGATIVE_HANDS.safetensors\" \"$EMBEDDINGS/NEGATIVE_HANDS.safetensors\"\n",
    "\n",
    "# Stable_Yogis_PDXL_Positives\n",
    "download_model \"$BASE_URL/Stable_Yogis_PDXL_Positives.safetensors\" \"$EMBEDDINGS/Stable_Yogis_PDXL_Positives.safetensors\"\n",
    "\n",
    "# Stable_Yogis_PDXL_Negatives\n",
    "download_model \"$BASE_URL/Stable_Yogis_PDXL_Negatives-neg.safetensors\" \"$EMBEDDINGS/Stable_Yogis_PDXL_Negatives-neg.safetensors\"\n"
   ]
  }
 ],
 "metadata": {
  "kernelspec": {
   "display_name": "Python 3 (ipykernel)",
   "language": "python",
   "name": "python3"
  },
  "language_info": {
   "codemirror_mode": {
    "name": "ipython",
    "version": 3
   },
   "file_extension": ".py",
   "mimetype": "text/x-python",
   "name": "python",
   "nbconvert_exporter": "python",
   "pygments_lexer": "ipython3",
   "version": "3.10.2"
  }
 },
 "nbformat": 4,
 "nbformat_minor": 5
}
