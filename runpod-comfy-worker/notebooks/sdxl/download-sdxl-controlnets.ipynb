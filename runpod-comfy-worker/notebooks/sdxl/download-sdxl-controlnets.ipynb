{
 "cells": [
  {
   "cell_type": "code",
   "execution_count": null,
   "id": "33be14dc-0669-4ffe-9dab-1c217c328607",
   "metadata": {},
   "outputs": [],
   "source": [
    "%%bash\n",
    "\n",
    "source /download-model.sh\n",
    "\n",
    "CONTROL_NET=\"$MODELS_PATH/controlnet/sdxl\"\n",
    "BASE_URL=\"https://huggingface.co/SimonJoz/comfy/resolve/main/control-net/sdxl\"\n",
    "\n",
    "mkdir -p \"$CONTROL_NET\"\n",
    "\n",
    "# ──────────────────────────────────────────────────────────────────────────────────────────────────────\n",
    "# ControlNets\n",
    "# ──────────────────────────────────────────────────────────────────────────────────────────────────────\n",
    "\n",
    "# Controlnet Union ProMax\n",
    "download_model \"$BASE_URL/controlnet-union-sdxl-1.0-promax.safetensors\" \"$CONTROL_NET/controlnet-union-sdxl-1.0-promax.safetensors\"\n"
   ]
  }
 ],
 "metadata": {
  "kernelspec": {
   "display_name": "Python 3 (ipykernel)",
   "language": "python",
   "name": "python3"
  },
  "language_info": {
   "codemirror_mode": {
    "name": "ipython",
    "version": 3
   },
   "file_extension": ".py",
   "mimetype": "text/x-python",
   "name": "python",
   "nbconvert_exporter": "python",
   "pygments_lexer": "ipython3",
   "version": "3.10.2"
  }
 },
 "nbformat": 4,
 "nbformat_minor": 5
}
